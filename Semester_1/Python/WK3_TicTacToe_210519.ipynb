{
 "cells": [
  {
   "cell_type": "code",
   "execution_count": 2,
   "metadata": {},
   "outputs": [],
   "source": [
    "#do this again using iterations\n",
    "def board_size(squares):\n",
    "    for i in range(squares):\n",
    "        print(' ---' * squares)\n",
    "        print('|   ' * (squares+1)) \n",
    "    print(' ---' * squares)"
   ]
  },
  {
   "cell_type": "code",
   "execution_count": 3,
   "metadata": {},
   "outputs": [
    {
     "name": "stdout",
     "output_type": "stream",
     "text": [
      " --- --- --- ---\n",
      "|   |   |   |   |   \n",
      " --- --- --- ---\n",
      "|   |   |   |   |   \n",
      " --- --- --- ---\n",
      "|   |   |   |   |   \n",
      " --- --- --- ---\n",
      "|   |   |   |   |   \n",
      " --- --- --- ---\n"
     ]
    }
   ],
   "source": [
    "board_size(4)"
   ]
  },
  {
   "cell_type": "code",
   "execution_count": 4,
   "metadata": {},
   "outputs": [
    {
     "name": "stdout",
     "output_type": "stream",
     "text": [
      " --- --- ---\n",
      "|   |   |   |   \n",
      " --- --- ---\n",
      "|   |   |   |   \n",
      " --- --- ---\n",
      "|   |   |   |   \n",
      " --- --- ---\n"
     ]
    }
   ],
   "source": [
    "board = board_size(3)"
   ]
  },
  {
   "cell_type": "code",
   "execution_count": 16,
   "metadata": {},
   "outputs": [],
   "source": [
    "game = [[2,1,0],\n",
    "        [2,2,0],\n",
    "        [0,2,2]]"
   ]
  },
  {
   "cell_type": "code",
   "execution_count": 17,
   "metadata": {},
   "outputs": [
    {
     "data": {
      "text/plain": [
       "[[2, 1, 0], [2, 2, 0], [0, 2, 2]]"
      ]
     },
     "execution_count": 17,
     "metadata": {},
     "output_type": "execute_result"
    }
   ],
   "source": [
    "game"
   ]
  },
  {
   "cell_type": "code",
   "execution_count": 18,
   "metadata": {},
   "outputs": [
    {
     "name": "stdout",
     "output_type": "stream",
     "text": [
      "loser\n"
     ]
    }
   ],
   "source": [
    "if (game[0][0]+game[0][1]+game[0][2]) == 3 and game[0][0] != 0 and game[0][1] != 0 and game [0][2] != 0:\n",
    "    print('x wins')\n",
    "#elif (game[1][0]+game[1][1]+game[1][2]) == 3:\n",
    "    print('x wins')\n",
    "#elif (game[2][0]+game[2][1]+game[2][2]) == 3:\n",
    "    print('x wins')\n",
    "#elif (game[0][0]+game[0][1]+game[0][2]) == 4:\n",
    "    print('y wins')\n",
    "#elif (game[0][0]+game[0][1]+game[0][2]) == 4:\n",
    "    print('y wins')\n",
    "#elif (game[0][0]+game[0][1]+game[0][2]) == 4:\n",
    "    print('y wins')\n",
    "else:\n",
    "    print('loser')"
   ]
  },
  {
   "cell_type": "code",
   "execution_count": 143,
   "metadata": {},
   "outputs": [],
   "source": [
    "def winner_checker(game):\n",
    "    global winner\n",
    "    if game[0] == [1,1,1]:\n",
    "        print('player 1 wins')\n",
    "        winner = 1\n",
    "    elif game[1] == [1,1,1]:\n",
    "        print('player 1 wins')\n",
    "        winner = 1\n",
    "    elif game[2] == [1,1,1]:\n",
    "        print('player 1 wins')\n",
    "        winner = 1\n",
    "    elif game[0][0] == 1 and game[1][0] == 1 and game[2][0] == 1:\n",
    "        print('player 1 wins')\n",
    "        winner = 1\n",
    "    elif game[0][1] == 1 and game[1][1] == 1 and game[2][1] == 1:\n",
    "        print('player 1 wins')\n",
    "        winner = 1\n",
    "    elif game[0][2] == 1 and game[1][2] == 1 and game[2][2] == 1:\n",
    "        print('player 1 wins')\n",
    "        winner = 1\n",
    "    elif game[0][0] == 1 and game[1][1] == 1 and game[2][2] == 1:\n",
    "        print('player 1 wins')\n",
    "        winner = 1\n",
    "    elif game[0][2] == 1 and game[1][1] == 1 and game[2][0] == 1:\n",
    "        print('player 1 wins')\n",
    "        winner = 1\n",
    "    elif game[0] == [2,2,2]:\n",
    "        print('player 2 wins')\n",
    "        winner = 1\n",
    "    elif game[1] == [2,2,2]:\n",
    "        print('player 2 wins')\n",
    "        winner = 1\n",
    "    elif game[2] == [2,2,2]:\n",
    "        print('player 2 wins')\n",
    "        winner = 1\n",
    "    elif game[0][0] == 2 and game[1][0] == 2 and game[2][0] == 2:\n",
    "        print('player 2 wins')\n",
    "        winner = 1\n",
    "    elif game[0][1] == 2 and game[1][1] == 2 and game[2][1] == 2:\n",
    "        print('player 2 wins')\n",
    "        winner = 1\n",
    "    elif game[0][2] == 2 and game[1][2] == 2 and game[2][2] == 2:\n",
    "        print('player 2 wins')\n",
    "        winner = 1\n",
    "    elif game[0][0] == 2 and game[1][1] == 2 and game[2][2] == 2:\n",
    "        print('player 2 wins')\n",
    "        winner = 1\n",
    "    elif game[0][2] == 2 and game[1][1] == 2 and game[2][0] == 2:\n",
    "        print('player 2 wins')\n",
    "        winner = 1\n",
    "    else:\n",
    "        #print('no current winner')\n",
    "        winner = 0\n",
    "        "
   ]
  },
  {
   "cell_type": "code",
   "execution_count": 128,
   "metadata": {},
   "outputs": [],
   "source": [
    "starting_game = [[0,0,0],\n",
    "        [0,0,0],\n",
    "        [0,0,0]]"
   ]
  },
  {
   "cell_type": "code",
   "execution_count": 135,
   "metadata": {},
   "outputs": [
    {
     "name": "stdout",
     "output_type": "stream",
     "text": [
      "no current winner\n",
      "fail\n"
     ]
    }
   ],
   "source": [
    "winner_checker(starting_game)\n",
    "if winner == 1:\n",
    "    print('success')\n",
    "else:\n",
    "    print('fail')"
   ]
  },
  {
   "cell_type": "code",
   "execution_count": 136,
   "metadata": {},
   "outputs": [
    {
     "name": "stdout",
     "output_type": "stream",
     "text": [
      "no current winner\n",
      "None\n"
     ]
    }
   ],
   "source": [
    "if print(winner_checker(starting_game)) == 'no current winner':\n",
    "    print('success')"
   ]
  },
  {
   "cell_type": "code",
   "execution_count": null,
   "metadata": {},
   "outputs": [],
   "source": [
    "winner_checker(starting_game)\n",
    "def TTT():\n",
    "    starting_game = [[0,0,0],\n",
    "        [0,0,0],\n",
    "        [0,0,0]]\n",
    "    board = starting_game\n",
    "    winner_checker(starting_game)\n",
    "    while winner ==0:\n",
    "        p1_go = input('Player 1, Where would you like to go? In format ''x,y'' where x is row and y is column')\n",
    "        while board[(int(p1_go[0]))-1][(int(p1_go[2])-1)] != 0:\n",
    "            print('Sorry, this space is taken')\n",
    "            p1_go = input('Player 1, Where would you like to go? In format ''x,y'' where x is row and y is column')\n",
    "        board[(int(p1_go[0]))-1][(int(p1_go[2])-1)] = 1\n",
    "        print(board)\n",
    "        winner_checker(board)\n",
    "        while winner ==0:\n",
    "        p2_go = input('Player 2, Where would you like to go? In format ''x,y'' where x is row and y is column')\n",
    "        while board[(int(p2_go[0]))-1][(int(p2_go[2])-1)] != 0:\n",
    "            print('Sorry, this space is taken')\n",
    "            p2_go = input('Player 2, Where would you like to go? In format ''x,y'' where x is row and y is column')\n",
    "        board[(int(p2_go[0]))-1][(int(p2_go[2])-1)] = 2\n",
    "        print(board)\n",
    "        winner_checker(board)\n",
    "        \n",
    "        "
   ]
  },
  {
   "cell_type": "code",
   "execution_count": null,
   "metadata": {},
   "outputs": [
    {
     "name": "stdout",
     "output_type": "stream",
     "text": [
      "Player 1, Where would you like to go? In format x,y where x is row and y is column1,1\n",
      "[[1, 0, 0], [0, 0, 0], [0, 0, 0]]\n"
     ]
    }
   ],
   "source": [
    "TTT()"
   ]
  },
  {
   "cell_type": "markdown",
   "metadata": {},
   "source": []
  }
 ],
 "metadata": {
  "kernelspec": {
   "display_name": "Python 3",
   "language": "python",
   "name": "python3"
  },
  "language_info": {
   "codemirror_mode": {
    "name": "ipython",
    "version": 3
   },
   "file_extension": ".py",
   "mimetype": "text/x-python",
   "name": "python",
   "nbconvert_exporter": "python",
   "pygments_lexer": "ipython3",
   "version": "3.7.1"
  }
 },
 "nbformat": 4,
 "nbformat_minor": 2
}
