{
 "cells": [
  {
   "cell_type": "code",
   "execution_count": 1,
   "metadata": {},
   "outputs": [],
   "source": [
    "import tkinter as tk\n",
    "import time"
   ]
  },
  {
   "cell_type": "code",
   "execution_count": 17,
   "metadata": {},
   "outputs": [
    {
     "ename": "SyntaxError",
     "evalue": "name 'Stopwatch_seconds' is used prior to global declaration (cell_name, line 18)",
     "output_type": "error",
     "traceback": [
      "\u001b[0;36m  File \u001b[0;32m\"cell_name\"\u001b[0;36m, line \u001b[0;32m18\u001b[0m\n\u001b[0;31mSyntaxError\u001b[0m\u001b[0;31m:\u001b[0m name 'Stopwatch_seconds' is used prior to global declaration\n"
     ]
    }
   ],
   "source": [
    "def update_clock():\n",
    "    l3.configure(text=time.strftime(\"%H:%M:%S\")) # do whatever the goes in the loop\n",
    "    root.after(1000, update_clock) # run this function again in 1,000 milliseconds\n",
    "    \n",
    "def Start_timer():\n",
    "    print('Working!!!!')\n",
    "    Stopwatch_time = user_input1.get()\n",
    "    Which_task = user_input2.get()\n",
    "    Stopwatch_seconds = int(Stopwatch_time)*60\n",
    "    print(Stopwatch_seconds)\n",
    "    print(Which_task)\n",
    "    #Start_Counter = int(Stopwatch_time)*60\n",
    "    l3.configure(text=Stopwatch_seconds)\n",
    "    root.after(1000, Start_timer)\n",
    "    Stopwatch_seconds -= 1\n",
    "    #problem is that this just restarts, setting clock to 1500 again\n",
    "    \n",
    "root =tk.Tk()\n",
    "\n",
    "l1 = tk.Label(root, text=\"Timer Length?\")\n",
    "l1.pack() \n",
    "user_input1 = tk.Entry(root)\n",
    "user_input1.pack()\n",
    "l2 = tk.Label(root, text=\"Which Task?\")\n",
    "l2.pack()\n",
    "user_input2 = tk.Entry(root)\n",
    "user_input2.pack()\n",
    "\n",
    "b = tk.Button(root, text='Start Timer', command=Start_timer)\n",
    "b.pack()\n",
    "\n",
    "l3 = tk.Label(root, text=\"Timer\")\n",
    "l3.pack()\n",
    "\n",
    "\n",
    "root.mainloop()"
   ]
  },
  {
   "cell_type": "code",
   "execution_count": 29,
   "metadata": {},
   "outputs": [],
   "source": [
    "Counter = 1500\n",
    "def count():\n",
    "    if True:\n",
    "        global Counter\n",
    "        Counter -= 1\n",
    "        print(Counter)"
   ]
  },
  {
   "cell_type": "code",
   "execution_count": 30,
   "metadata": {},
   "outputs": [
    {
     "name": "stdout",
     "output_type": "stream",
     "text": [
      "1499\n"
     ]
    }
   ],
   "source": [
    "count()"
   ]
  },
  {
   "cell_type": "code",
   "execution_count": null,
   "metadata": {},
   "outputs": [],
   "source": []
  }
 ],
 "metadata": {
  "kernelspec": {
   "display_name": "Python 3",
   "language": "python",
   "name": "python3"
  },
  "language_info": {
   "codemirror_mode": {
    "name": "ipython",
    "version": 3
   },
   "file_extension": ".py",
   "mimetype": "text/x-python",
   "name": "python",
   "nbconvert_exporter": "python",
   "pygments_lexer": "ipython3",
   "version": "3.7.1"
  }
 },
 "nbformat": 4,
 "nbformat_minor": 2
}
