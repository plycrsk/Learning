{
 "cells": [
  {
   "cell_type": "code",
   "execution_count": 1,
   "metadata": {},
   "outputs": [],
   "source": [
    "import tkinter as tk\n",
    "import time"
   ]
  },
  {
   "cell_type": "code",
   "execution_count": 46,
   "metadata": {},
   "outputs": [
    {
     "name": "stdout",
     "output_type": "stream",
     "text": [
      "Hello\n",
      "Hello\n",
      "Hello\n"
     ]
    }
   ],
   "source": [
    "root = tk.Tk()\n",
    "\n",
    "l1 = tk.Label(root, text='testing123')\n",
    "l1.pack()\n",
    "\n",
    "b1 = tk.Button(root, text='Start', command=Timer_parent)\n",
    "b1.pack()\n",
    "\n",
    "b2 = tk.Button(root, text='Stop', command=Stop_timer)\n",
    "b2.pack()\n",
    "\n",
    "root.mainloop()"
   ]
  },
  {
   "cell_type": "code",
   "execution_count": 40,
   "metadata": {},
   "outputs": [
    {
     "name": "stdout",
     "output_type": "stream",
     "text": [
      "1500\n"
     ]
    }
   ],
   "source": [
    "counter = 1500\n",
    "running = True\n",
    "\n",
    "def Timer_parent():\n",
    "    def Timer():\n",
    "        if running:\n",
    "            global counter\n",
    "            display = str(counter)\n",
    "            l1.config(text=display)\n",
    "            l1.after(1000, Timer)\n",
    "            counter -= 1\n",
    "    Timer()        \n",
    "\n",
    "Timer()"
   ]
  },
  {
   "cell_type": "code",
   "execution_count": 45,
   "metadata": {},
   "outputs": [],
   "source": [
    "def Stop_timer():\n",
    "    print('Hello')"
   ]
  },
  {
   "cell_type": "code",
   "execution_count": null,
   "metadata": {},
   "outputs": [],
   "source": []
  }
 ],
 "metadata": {
  "kernelspec": {
   "display_name": "Python 3",
   "language": "python",
   "name": "python3"
  },
  "language_info": {
   "codemirror_mode": {
    "name": "ipython",
    "version": 3
   },
   "file_extension": ".py",
   "mimetype": "text/x-python",
   "name": "python",
   "nbconvert_exporter": "python",
   "pygments_lexer": "ipython3",
   "version": "3.7.1"
  }
 },
 "nbformat": 4,
 "nbformat_minor": 2
}
