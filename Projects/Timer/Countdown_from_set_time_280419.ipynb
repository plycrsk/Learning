{
 "cells": [
  {
   "cell_type": "code",
   "execution_count": 79,
   "metadata": {},
   "outputs": [],
   "source": [
    "import time\n",
    "import csv"
   ]
  },
  {
   "cell_type": "code",
   "execution_count": 252,
   "metadata": {},
   "outputs": [
    {
     "name": "stdout",
     "output_type": "stream",
     "text": [
      "Timer length in Minutes? 40\n",
      "Task? Testing40\n"
     ]
    }
   ],
   "source": [
    "new_time = (int(input(\"Timer length in Minutes? \")))*60\n",
    "which_task = (input(\"Task? \"))\n",
    "time_record = int(new_time/60)"
   ]
  },
  {
   "cell_type": "code",
   "execution_count": 253,
   "metadata": {},
   "outputs": [],
   "source": [
    "new_time = 3"
   ]
  },
  {
   "cell_type": "code",
   "execution_count": 254,
   "metadata": {},
   "outputs": [
    {
     "data": {
      "text/plain": [
       "3"
      ]
     },
     "execution_count": 254,
     "metadata": {},
     "output_type": "execute_result"
    }
   ],
   "source": [
    "new_time"
   ]
  },
  {
   "cell_type": "code",
   "execution_count": 230,
   "metadata": {},
   "outputs": [
    {
     "data": {
      "text/plain": [
       "'Tattoo'"
      ]
     },
     "execution_count": 230,
     "metadata": {},
     "output_type": "execute_result"
    }
   ],
   "source": [
    "which_task"
   ]
  },
  {
   "cell_type": "code",
   "execution_count": 199,
   "metadata": {},
   "outputs": [
    {
     "data": {
      "text/plain": [
       "25"
      ]
     },
     "execution_count": 199,
     "metadata": {},
     "output_type": "execute_result"
    }
   ],
   "source": [
    "time_record"
   ]
  },
  {
   "cell_type": "code",
   "execution_count": 167,
   "metadata": {
    "scrolled": true
   },
   "outputs": [
    {
     "data": {
      "text/plain": [
       "time.struct_time(tm_year=2019, tm_mon=4, tm_mday=28, tm_hour=20, tm_min=40, tm_sec=3, tm_wday=6, tm_yday=118, tm_isdst=0)"
      ]
     },
     "execution_count": 167,
     "metadata": {},
     "output_type": "execute_result"
    }
   ],
   "source": [
    "time.gmtime()"
   ]
  },
  {
   "cell_type": "code",
   "execution_count": 255,
   "metadata": {
    "scrolled": true
   },
   "outputs": [
    {
     "name": "stdout",
     "output_type": "stream",
     "text": [
      "Time Up!               \n",
      "40\n",
      "Testing40\n",
      "time.struct_time(tm_year=2019, tm_mon=4, tm_mday=29, tm_hour=13, tm_min=13, tm_sec=31, tm_wday=0, tm_yday=119, tm_isdst=0)\n"
     ]
    }
   ],
   "source": [
    "start_time=time.time()\n",
    "while new_time > 0:\n",
    "    new_time -= 1\n",
    "    Minutes = new_time//60\n",
    "    Seconds = new_time%60\n",
    "    print(Minutes, 'Minutes', Seconds, 'Seconds', end='\\r')\n",
    "    time.sleep(1-((time.time()-start_time)%1))\n",
    "    if new_time == 0:\n",
    "        print('Time Up!               ')\n",
    "        sheep_timer_record = open(\"sheep_timer.txt\", 'a')\n",
    "        print(time_record)\n",
    "        print(which_task)\n",
    "        print(time.gmtime())\n",
    "        sheep_timer_record.writelines([str(time_record), ',', str(which_task), ',', str(time.gmtime()), '\\n'])\n",
    "        sheep_timer_record.close()"
   ]
  },
  {
   "cell_type": "code",
   "execution_count": 185,
   "metadata": {},
   "outputs": [],
   "source": [
    "#writing to txt file\n",
    "sheep_timer_record = open(\"sheep_timer.txt\", 'a')\n",
    "sheep_timer_record.writelines(['blah',',', 'blah', ',', 'blah', '\\n'])\n",
    "sheep_timer_record.close()"
   ]
  },
  {
   "cell_type": "code",
   "execution_count": null,
   "metadata": {},
   "outputs": [],
   "source": []
  }
 ],
 "metadata": {
  "kernelspec": {
   "display_name": "Python 3",
   "language": "python",
   "name": "python3"
  },
  "language_info": {
   "codemirror_mode": {
    "name": "ipython",
    "version": 3
   },
   "file_extension": ".py",
   "mimetype": "text/x-python",
   "name": "python",
   "nbconvert_exporter": "python",
   "pygments_lexer": "ipython3",
   "version": "3.7.1"
  }
 },
 "nbformat": 4,
 "nbformat_minor": 2
}
