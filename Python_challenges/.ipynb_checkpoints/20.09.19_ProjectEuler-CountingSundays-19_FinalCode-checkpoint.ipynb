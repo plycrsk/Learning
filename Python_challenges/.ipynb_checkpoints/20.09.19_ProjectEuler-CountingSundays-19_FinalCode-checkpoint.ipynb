{
 "cells": [
  {
   "cell_type": "code",
   "execution_count": 20,
   "metadata": {},
   "outputs": [
    {
     "name": "stdout",
     "output_type": "stream",
     "text": [
      "171 Sundays fall on the first of the month during this time period\n"
     ]
    }
   ],
   "source": [
    "April = June = September = November = 30\n",
    "January = March = May = July = August = October = December = 31\n",
    "February = 28\n",
    "February_leap = 29\n",
    "\n",
    "Months = [January, February, March, April, May, June, July, August, September, October, November, December]\n",
    "Months_leap = [January, February_leap, March, April, May, June, July, August, September, October, November, December]\n",
    "\n",
    "\n",
    "Century = (Months*3+Months_leap)*25\n",
    "#now add 1 Jan 1901 to the list\n",
    "Century.insert(0,1)\n",
    "#now cumsum the days over a century to get first of each month\n",
    "import numpy as np\n",
    "Century = np.cumsum(Century)\n",
    "#remove the last entry which is Jan 1 2001\n",
    "Century = np.delete(Century,-1)\n",
    "#print(Century)\n",
    "\n",
    "First_of_month_on_sunday = []\n",
    "for i in Century:\n",
    "#Jan01 1901 is a Tuesday. This leaves %7 = 0. Sundays are %7 = 6\n",
    "    if i%7 == 6:\n",
    "        First_of_month_on_sunday.append(i)\n",
    "\n",
    "print(str(len(First_of_month_on_sunday)) + (\" Sundays fall on the first of the month during this time period\"))"
   ]
  },
  {
   "cell_type": "code",
   "execution_count": 5,
   "metadata": {},
   "outputs": [
    {
     "data": {
      "text/plain": [
       "171"
      ]
     },
     "execution_count": 5,
     "metadata": {},
     "output_type": "execute_result"
    }
   ],
   "source": []
  },
  {
   "cell_type": "code",
   "execution_count": null,
   "metadata": {},
   "outputs": [],
   "source": []
  }
 ],
 "metadata": {
  "kernelspec": {
   "display_name": "Python 3",
   "language": "python",
   "name": "python3"
  },
  "language_info": {
   "codemirror_mode": {
    "name": "ipython",
    "version": 3
   },
   "file_extension": ".py",
   "mimetype": "text/x-python",
   "name": "python",
   "nbconvert_exporter": "python",
   "pygments_lexer": "ipython3",
   "version": "3.7.1"
  }
 },
 "nbformat": 4,
 "nbformat_minor": 2
}
