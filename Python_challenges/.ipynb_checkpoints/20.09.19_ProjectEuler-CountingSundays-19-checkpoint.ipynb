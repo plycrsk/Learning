{
 "cells": [
  {
   "cell_type": "markdown",
   "metadata": {},
   "source": [
    "You are given the following information, but you may prefer to do some research for yourself.\n",
    "\n",
    "1 Jan 1900 was a Monday.\n",
    "Thirty days has September,\n",
    "April, June and November.\n",
    "All the rest have thirty-one,\n",
    "Saving February alone,\n",
    "Which has twenty-eight, rain or shine.\n",
    "And on leap years, twenty-nine.\n",
    "A leap year occurs on any year evenly divisible by 4, but not on a century unless it is divisible by 400.\n",
    "How many Sundays fell on the first of the month during the twentieth century (1 Jan 1901 to 31 Dec 2000)?"
   ]
  },
  {
   "cell_type": "code",
   "execution_count": 1,
   "metadata": {},
   "outputs": [],
   "source": [
    "April = June = September = November = 30\n",
    "January = March = May = July = August = October = December = 31\n",
    "February = 28\n",
    "February_leap = 29"
   ]
  },
  {
   "cell_type": "code",
   "execution_count": 20,
   "metadata": {},
   "outputs": [],
   "source": [
    "#Could use prime numbers to count days of week?\n",
    "#Could then divide by 17 to find any sundays?\n",
    "Prime_numbers = 2,3,5,7,11,13,17\n",
    "#Mon = 1, Sun = 17, etc.."
   ]
  },
  {
   "cell_type": "code",
   "execution_count": 26,
   "metadata": {},
   "outputs": [],
   "source": [
    "#Double-check\n",
    "January + February + March + April + May + June + July + August + September + October + November + December\n",
    "Year = January + February + March + April + May + June + July + August + September + October + November + December"
   ]
  },
  {
   "cell_type": "code",
   "execution_count": 27,
   "metadata": {},
   "outputs": [
    {
     "data": {
      "text/plain": [
       "365"
      ]
     },
     "execution_count": 27,
     "metadata": {},
     "output_type": "execute_result"
    }
   ],
   "source": [
    "Year"
   ]
  },
  {
   "cell_type": "code",
   "execution_count": 37,
   "metadata": {},
   "outputs": [
    {
     "data": {
      "text/plain": [
       "31"
      ]
     },
     "execution_count": 37,
     "metadata": {},
     "output_type": "execute_result"
    }
   ],
   "source": [
    "January"
   ]
  },
  {
   "cell_type": "code",
   "execution_count": 92,
   "metadata": {},
   "outputs": [
    {
     "data": {
      "text/plain": [
       "0"
      ]
     },
     "execution_count": 92,
     "metadata": {},
     "output_type": "execute_result"
    }
   ],
   "source": [
    "#0 = sun, 1 = mon, 2 = tue, 3 = wed, 4 = thu, 5 = fri, 6 = sat\n",
    "February%7"
   ]
  },
  {
   "cell_type": "code",
   "execution_count": 93,
   "metadata": {},
   "outputs": [
    {
     "data": {
      "text/plain": [
       "3"
      ]
     },
     "execution_count": 93,
     "metadata": {},
     "output_type": "execute_result"
    }
   ],
   "source": [
    "January%7\n",
    "#this means 31 jan 1900 is a 3 i.e. a Wednesday?"
   ]
  },
  {
   "cell_type": "code",
   "execution_count": 94,
   "metadata": {},
   "outputs": [
    {
     "data": {
      "text/plain": [
       "1"
      ]
     },
     "execution_count": 94,
     "metadata": {},
     "output_type": "execute_result"
    }
   ],
   "source": [
    "Year%52\n",
    "#This means that Dec 31 1900 is a Monday"
   ]
  },
  {
   "cell_type": "code",
   "execution_count": 77,
   "metadata": {},
   "outputs": [],
   "source": [
    "#Designate months\n",
    "Months = [January, February, March, April, May, June, July, August, September, October, November, December]"
   ]
  },
  {
   "cell_type": "code",
   "execution_count": 78,
   "metadata": {},
   "outputs": [
    {
     "data": {
      "text/plain": [
       "[31, 28, 31, 30, 31, 30, 31, 31, 30, 31, 30, 31]"
      ]
     },
     "execution_count": 78,
     "metadata": {},
     "output_type": "execute_result"
    }
   ],
   "source": [
    "Months"
   ]
  },
  {
   "cell_type": "code",
   "execution_count": 66,
   "metadata": {},
   "outputs": [
    {
     "name": "stdout",
     "output_type": "stream",
     "text": [
      "31\n",
      "28\n",
      "31\n",
      "30\n",
      "31\n",
      "30\n",
      "31\n",
      "31\n",
      "30\n",
      "31\n",
      "30\n",
      "31\n"
     ]
    }
   ],
   "source": [
    "#this is incorrect, adds an extra 1 to each first day.\n",
    "#First_of_each_month = []\n",
    "#for i in Months:\n",
    "#    print(i)\n",
    "#    First_of_each_month.append(i+1)"
   ]
  },
  {
   "cell_type": "code",
   "execution_count": 67,
   "metadata": {},
   "outputs": [
    {
     "data": {
      "text/plain": [
       "[32, 29, 32, 31, 32, 31, 32, 32, 31, 32, 31, 32]"
      ]
     },
     "execution_count": 67,
     "metadata": {},
     "output_type": "execute_result"
    }
   ],
   "source": [
    "#First_of_each_month\n",
    "#this gives first of month for feb to jan the following year\n",
    "#actually this is wrong, it is adding 1 too many each time."
   ]
  },
  {
   "cell_type": "code",
   "execution_count": 76,
   "metadata": {},
   "outputs": [
    {
     "data": {
      "text/plain": [
       "[31, 28, 31, 30, 31, 30, 31, 31, 30, 31, 30, 31, 1]"
      ]
     },
     "execution_count": 76,
     "metadata": {},
     "output_type": "execute_result"
    }
   ],
   "source": [
    "Months"
   ]
  },
  {
   "cell_type": "code",
   "execution_count": 79,
   "metadata": {},
   "outputs": [],
   "source": [
    "First_of_the_months = Months"
   ]
  },
  {
   "cell_type": "code",
   "execution_count": 82,
   "metadata": {},
   "outputs": [
    {
     "data": {
      "text/plain": [
       "[1, 31, 28, 31, 30, 31, 30, 31, 31, 30, 31, 30, 31]"
      ]
     },
     "execution_count": 82,
     "metadata": {},
     "output_type": "execute_result"
    }
   ],
   "source": [
    "First_of_the_months"
   ]
  },
  {
   "cell_type": "code",
   "execution_count": 81,
   "metadata": {},
   "outputs": [],
   "source": [
    "#adds January 1 to start of list\n",
    "First_of_the_months.insert(0,1)"
   ]
  },
  {
   "cell_type": "code",
   "execution_count": 43,
   "metadata": {},
   "outputs": [],
   "source": [
    "import numpy as np"
   ]
  },
  {
   "cell_type": "code",
   "execution_count": 87,
   "metadata": {},
   "outputs": [],
   "source": [
    "Day_in_year_first_of_month = np.cumsum(First_of_the_months)"
   ]
  },
  {
   "cell_type": "code",
   "execution_count": 88,
   "metadata": {},
   "outputs": [
    {
     "data": {
      "text/plain": [
       "array([  1,  32,  60,  91, 121, 152, 182, 213, 244, 274, 305, 335, 366])"
      ]
     },
     "execution_count": 88,
     "metadata": {},
     "output_type": "execute_result"
    }
   ],
   "source": [
    "Day_in_year_first_of_month"
   ]
  },
  {
   "cell_type": "code",
   "execution_count": 97,
   "metadata": {},
   "outputs": [
    {
     "name": "stdout",
     "output_type": "stream",
     "text": [
      "91\n",
      "182\n"
     ]
    }
   ],
   "source": [
    "#if divisible by 0, the first of the month falls on a sunday.\n",
    "for i in Day_in_year_first_of_month:\n",
    "    if i%7 == 0:\n",
    "        print(i)"
   ]
  },
  {
   "cell_type": "code",
   "execution_count": 98,
   "metadata": {},
   "outputs": [],
   "source": [
    "String_months = ['Jan', 'Feb', 'Mar', 'Apr', 'May', 'Jun', 'Jul', 'Aug', 'Sep', 'Oct', 'Nov', 'Dec']"
   ]
  },
  {
   "cell_type": "code",
   "execution_count": 99,
   "metadata": {},
   "outputs": [
    {
     "data": {
      "text/plain": [
       "['Jan',\n",
       " 'Feb',\n",
       " 'Mar',\n",
       " 'Apr',\n",
       " 'May',\n",
       " 'Jun',\n",
       " 'Jul',\n",
       " 'Aug',\n",
       " 'Sep',\n",
       " 'Oct',\n",
       " 'Nov',\n",
       " 'Dec']"
      ]
     },
     "execution_count": 99,
     "metadata": {},
     "output_type": "execute_result"
    }
   ],
   "source": [
    "String_months"
   ]
  },
  {
   "cell_type": "code",
   "execution_count": 114,
   "metadata": {},
   "outputs": [],
   "source": [
    "Month_dict = dict.fromkeys(String_months,FoM_list)"
   ]
  },
  {
   "cell_type": "code",
   "execution_count": 116,
   "metadata": {},
   "outputs": [],
   "source": [
    "Month_dict = zip(String_months,FoM_list)"
   ]
  },
  {
   "cell_type": "code",
   "execution_count": 118,
   "metadata": {},
   "outputs": [],
   "source": [
    "Month_dictionary = dict(Month_dict)"
   ]
  },
  {
   "cell_type": "code",
   "execution_count": 119,
   "metadata": {},
   "outputs": [
    {
     "data": {
      "text/plain": [
       "{'Jan': 1,\n",
       " 'Feb': 32,\n",
       " 'Mar': 60,\n",
       " 'Apr': 91,\n",
       " 'May': 121,\n",
       " 'Jun': 152,\n",
       " 'Jul': 182,\n",
       " 'Aug': 213,\n",
       " 'Sep': 244,\n",
       " 'Oct': 274,\n",
       " 'Nov': 305,\n",
       " 'Dec': 335}"
      ]
     },
     "execution_count": 119,
     "metadata": {},
     "output_type": "execute_result"
    }
   ],
   "source": [
    "Month_dictionary"
   ]
  },
  {
   "cell_type": "code",
   "execution_count": 129,
   "metadata": {},
   "outputs": [
    {
     "name": "stdout",
     "output_type": "stream",
     "text": [
      "91\n",
      "182\n"
     ]
    }
   ],
   "source": [
    "#Now re-write this to print Month name\n",
    "#Actually only need to count how many answers each year\n",
    "#if divisible by 0, the first of the month falls on a sunday.\n",
    "for i in Day_in_year_first_of_month:\n",
    "    if i%7 == 0:\n",
    "        print(i)\n",
    "    "
   ]
  },
  {
   "cell_type": "code",
   "execution_count": 5,
   "metadata": {},
   "outputs": [
    {
     "name": "stdout",
     "output_type": "stream",
     "text": [
      "1904\n",
      "1908\n",
      "1912\n",
      "1916\n",
      "1920\n",
      "1924\n",
      "1928\n",
      "1932\n",
      "1936\n",
      "1940\n",
      "1944\n",
      "1948\n",
      "1952\n",
      "1956\n",
      "1960\n",
      "1964\n",
      "1968\n",
      "1972\n",
      "1976\n",
      "1980\n",
      "1984\n",
      "1988\n",
      "1992\n",
      "1996\n",
      "2000\n"
     ]
    }
   ],
   "source": [
    "#now to iterate first of month over 100 years... paying attention to leap years.\n",
    "#leap year calc\n",
    "#this gives me all the years I am looking at:\n",
    "Months = [January, February, March, April, May, June, July, August, September, October, November, December]\n",
    "Months_leap = [January, February_leap, March, April, May, June, July, August, September, October, November, December]\n",
    "all_years = list(range(1901,2001))\n",
    "for year in all_years:\n",
    "    if year % 4 == 0:\n",
    "        year_length = January + February_leap + March + April + May + June + July + August + September + October + November + December\n",
    "        First_of_the_months = Months\n",
    "        \n",
    "        print(year)"
   ]
  },
  {
   "cell_type": "code",
   "execution_count": 58,
   "metadata": {},
   "outputs": [],
   "source": [
    "Century = (Months*3+Months_leap)*25"
   ]
  },
  {
   "cell_type": "code",
   "execution_count": 59,
   "metadata": {},
   "outputs": [
    {
     "name": "stdout",
     "output_type": "stream",
     "text": [
      "[    1    32    60 ... 36434 36465 36495]\n"
     ]
    }
   ],
   "source": [
    "Century\n",
    "#now add 1 Jan 1901 to the list\n",
    "Century.insert(0,1)\n",
    "#now cumsum the days over a century\n",
    "import numpy as np\n",
    "Century = np.cumsum(Century)\n",
    "#remove the last entry which is Jan 1 2001\n",
    "Century = np.delete(Century,-1)\n",
    "print(Century)"
   ]
  },
  {
   "cell_type": "code",
   "execution_count": 61,
   "metadata": {},
   "outputs": [],
   "source": [
    "First_of_month_on_sunday = []\n",
    "for i in Century:\n",
    "    if i%7 == 0:\n",
    "        First_of_month_on_sunday.append(i)"
   ]
  },
  {
   "cell_type": "code",
   "execution_count": 62,
   "metadata": {},
   "outputs": [
    {
     "data": {
      "text/plain": [
       "[91,\n",
       " 182,\n",
       " 609,\n",
       " 700,\n",
       " 882,\n",
       " 1127,\n",
       " 1309,\n",
       " 1582,\n",
       " 1827,\n",
       " 2100,\n",
       " 2282,\n",
       " 2373,\n",
       " 2709,\n",
       " 2954,\n",
       " 2982,\n",
       " 3227,\n",
       " 3500,\n",
       " 3773,\n",
       " 4018,\n",
       " 4109,\n",
       " 4200,\n",
       " 4627,\n",
       " 4718,\n",
       " 4900,\n",
       " 5145,\n",
       " 5173,\n",
       " 5418,\n",
       " 5600,\n",
       " 5845,\n",
       " 6118,\n",
       " 6300,\n",
       " 6391,\n",
       " 6818,\n",
       " 6909,\n",
       " 7000,\n",
       " 7245,\n",
       " 7518,\n",
       " 7791,\n",
       " 8036,\n",
       " 8309,\n",
       " 8645,\n",
       " 8736,\n",
       " 8918,\n",
       " 9163,\n",
       " 9191,\n",
       " 9436,\n",
       " 9709,\n",
       " 10136,\n",
       " 10318,\n",
       " 10409,\n",
       " 10836,\n",
       " 10927,\n",
       " 11109,\n",
       " 11354,\n",
       " 11536,\n",
       " 11809,\n",
       " 12054,\n",
       " 12327,\n",
       " 12509,\n",
       " 12600,\n",
       " 12936,\n",
       " 13181,\n",
       " 13209,\n",
       " 13454,\n",
       " 13727,\n",
       " 14000,\n",
       " 14245,\n",
       " 14336,\n",
       " 14427,\n",
       " 14854,\n",
       " 14945,\n",
       " 15127,\n",
       " 15372,\n",
       " 15400,\n",
       " 15645,\n",
       " 15827,\n",
       " 16072,\n",
       " 16345,\n",
       " 16527,\n",
       " 16618,\n",
       " 17045,\n",
       " 17136,\n",
       " 17227,\n",
       " 17472,\n",
       " 17745,\n",
       " 18018,\n",
       " 18263,\n",
       " 18536,\n",
       " 18872,\n",
       " 18963,\n",
       " 19145,\n",
       " 19390,\n",
       " 19418,\n",
       " 19663,\n",
       " 19936,\n",
       " 20363,\n",
       " 20545,\n",
       " 20636,\n",
       " 21063,\n",
       " 21154,\n",
       " 21336,\n",
       " 21581,\n",
       " 21763,\n",
       " 22036,\n",
       " 22281,\n",
       " 22554,\n",
       " 22736,\n",
       " 22827,\n",
       " 23163,\n",
       " 23408,\n",
       " 23436,\n",
       " 23681,\n",
       " 23954,\n",
       " 24227,\n",
       " 24472,\n",
       " 24563,\n",
       " 24654,\n",
       " 25081,\n",
       " 25172,\n",
       " 25354,\n",
       " 25599,\n",
       " 25627,\n",
       " 25872,\n",
       " 26054,\n",
       " 26299,\n",
       " 26572,\n",
       " 26754,\n",
       " 26845,\n",
       " 27272,\n",
       " 27363,\n",
       " 27454,\n",
       " 27699,\n",
       " 27972,\n",
       " 28245,\n",
       " 28490,\n",
       " 28763,\n",
       " 29099,\n",
       " 29190,\n",
       " 29372,\n",
       " 29617,\n",
       " 29645,\n",
       " 29890,\n",
       " 30163,\n",
       " 30590,\n",
       " 30772,\n",
       " 30863,\n",
       " 31290,\n",
       " 31381,\n",
       " 31563,\n",
       " 31808,\n",
       " 31990,\n",
       " 32263,\n",
       " 32508,\n",
       " 32781,\n",
       " 32963,\n",
       " 33054,\n",
       " 33390,\n",
       " 33635,\n",
       " 33663,\n",
       " 33908,\n",
       " 34181,\n",
       " 34454,\n",
       " 34699,\n",
       " 34790,\n",
       " 34881,\n",
       " 35308,\n",
       " 35399,\n",
       " 35581,\n",
       " 35826,\n",
       " 35854,\n",
       " 36099,\n",
       " 36281]"
      ]
     },
     "execution_count": 62,
     "metadata": {},
     "output_type": "execute_result"
    }
   ],
   "source": [
    "First_of_month_on_sunday"
   ]
  },
  {
   "cell_type": "code",
   "execution_count": 63,
   "metadata": {},
   "outputs": [
    {
     "data": {
      "text/plain": [
       "172"
      ]
     },
     "execution_count": 63,
     "metadata": {},
     "output_type": "execute_result"
    }
   ],
   "source": [
    "len(First_of_month_on_sunday)"
   ]
  },
  {
   "cell_type": "code",
   "execution_count": null,
   "metadata": {},
   "outputs": [],
   "source": []
  }
 ],
 "metadata": {
  "kernelspec": {
   "display_name": "Python 3",
   "language": "python",
   "name": "python3"
  },
  "language_info": {
   "codemirror_mode": {
    "name": "ipython",
    "version": 3
   },
   "file_extension": ".py",
   "mimetype": "text/x-python",
   "name": "python",
   "nbconvert_exporter": "python",
   "pygments_lexer": "ipython3",
   "version": "3.7.1"
  }
 },
 "nbformat": 4,
 "nbformat_minor": 2
}
