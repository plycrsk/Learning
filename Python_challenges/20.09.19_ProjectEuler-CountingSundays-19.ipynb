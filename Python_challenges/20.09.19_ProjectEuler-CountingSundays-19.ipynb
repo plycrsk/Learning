{
 "cells": [
  {
   "cell_type": "markdown",
   "metadata": {},
   "source": [
    "You are given the following information, but you may prefer to do some research for yourself.\n",
    "\n",
    "1 Jan 1900 was a Monday.\n",
    "Thirty days has September,\n",
    "April, June and November.\n",
    "All the rest have thirty-one,\n",
    "Saving February alone,\n",
    "Which has twenty-eight, rain or shine.\n",
    "And on leap years, twenty-nine.\n",
    "A leap year occurs on any year evenly divisible by 4, but not on a century unless it is divisible by 400.\n",
    "How many Sundays fell on the first of the month during the twentieth century (1 Jan 1901 to 31 Dec 2000)?"
   ]
  },
  {
   "cell_type": "code",
   "execution_count": 1,
   "metadata": {},
   "outputs": [],
   "source": [
    "April = June = September = November = 30\n",
    "January = March = May = July = August = October = December = 31\n",
    "February = 28\n",
    "February_leap = 29"
   ]
  },
  {
   "cell_type": "code",
   "execution_count": 20,
   "metadata": {},
   "outputs": [],
   "source": [
    "#Could use prime numbers to count days of week?\n",
    "#Could then divide by 17 to find any sundays?\n",
    "Prime_numbers = 2,3,5,7,11,13,17\n",
    "#Mon = 1, Sun = 17, etc.."
   ]
  },
  {
   "cell_type": "code",
   "execution_count": 26,
   "metadata": {},
   "outputs": [],
   "source": [
    "#Double-check\n",
    "January + February + March + April + May + June + July + August + September + October + November + December\n",
    "Year = January + February + March + April + May + June + July + August + September + October + November + December"
   ]
  },
  {
   "cell_type": "code",
   "execution_count": 27,
   "metadata": {},
   "outputs": [
    {
     "data": {
      "text/plain": [
       "365"
      ]
     },
     "execution_count": 27,
     "metadata": {},
     "output_type": "execute_result"
    }
   ],
   "source": [
    "Year"
   ]
  },
  {
   "cell_type": "code",
   "execution_count": 37,
   "metadata": {},
   "outputs": [
    {
     "data": {
      "text/plain": [
       "31"
      ]
     },
     "execution_count": 37,
     "metadata": {},
     "output_type": "execute_result"
    }
   ],
   "source": [
    "January"
   ]
  },
  {
   "cell_type": "code",
   "execution_count": 92,
   "metadata": {},
   "outputs": [
    {
     "data": {
      "text/plain": [
       "0"
      ]
     },
     "execution_count": 92,
     "metadata": {},
     "output_type": "execute_result"
    }
   ],
   "source": [
    "#0 = sun, 1 = mon, 2 = tue, 3 = wed, 4 = thu, 5 = fri, 6 = sat\n",
    "February%7"
   ]
  },
  {
   "cell_type": "code",
   "execution_count": 93,
   "metadata": {},
   "outputs": [
    {
     "data": {
      "text/plain": [
       "3"
      ]
     },
     "execution_count": 93,
     "metadata": {},
     "output_type": "execute_result"
    }
   ],
   "source": [
    "January%7\n",
    "#this means 31 jan 1900 is a 3 i.e. a Wednesday?"
   ]
  },
  {
   "cell_type": "code",
   "execution_count": 94,
   "metadata": {},
   "outputs": [
    {
     "data": {
      "text/plain": [
       "1"
      ]
     },
     "execution_count": 94,
     "metadata": {},
     "output_type": "execute_result"
    }
   ],
   "source": [
    "Year%52\n",
    "#This means that Dec 31 1900 is a Monday"
   ]
  },
  {
   "cell_type": "code",
   "execution_count": 77,
   "metadata": {},
   "outputs": [],
   "source": [
    "#Designate months\n",
    "Months = [January, February, March, April, May, June, July, August, September, October, November, December]"
   ]
  },
  {
   "cell_type": "code",
   "execution_count": 78,
   "metadata": {},
   "outputs": [
    {
     "data": {
      "text/plain": [
       "[31, 28, 31, 30, 31, 30, 31, 31, 30, 31, 30, 31]"
      ]
     },
     "execution_count": 78,
     "metadata": {},
     "output_type": "execute_result"
    }
   ],
   "source": [
    "Months"
   ]
  },
  {
   "cell_type": "code",
   "execution_count": 66,
   "metadata": {},
   "outputs": [
    {
     "name": "stdout",
     "output_type": "stream",
     "text": [
      "31\n",
      "28\n",
      "31\n",
      "30\n",
      "31\n",
      "30\n",
      "31\n",
      "31\n",
      "30\n",
      "31\n",
      "30\n",
      "31\n"
     ]
    }
   ],
   "source": [
    "#this is incorrect, adds an extra 1 to each first day.\n",
    "#First_of_each_month = []\n",
    "#for i in Months:\n",
    "#    print(i)\n",
    "#    First_of_each_month.append(i+1)"
   ]
  },
  {
   "cell_type": "code",
   "execution_count": 67,
   "metadata": {},
   "outputs": [
    {
     "data": {
      "text/plain": [
       "[32, 29, 32, 31, 32, 31, 32, 32, 31, 32, 31, 32]"
      ]
     },
     "execution_count": 67,
     "metadata": {},
     "output_type": "execute_result"
    }
   ],
   "source": [
    "#First_of_each_month\n",
    "#this gives first of month for feb to jan the following year\n",
    "#actually this is wrong, it is adding 1 too many each time."
   ]
  },
  {
   "cell_type": "code",
   "execution_count": 76,
   "metadata": {},
   "outputs": [
    {
     "data": {
      "text/plain": [
       "[31, 28, 31, 30, 31, 30, 31, 31, 30, 31, 30, 31, 1]"
      ]
     },
     "execution_count": 76,
     "metadata": {},
     "output_type": "execute_result"
    }
   ],
   "source": [
    "Months"
   ]
  },
  {
   "cell_type": "code",
   "execution_count": 79,
   "metadata": {},
   "outputs": [],
   "source": [
    "First_of_the_months = Months"
   ]
  },
  {
   "cell_type": "code",
   "execution_count": 82,
   "metadata": {},
   "outputs": [
    {
     "data": {
      "text/plain": [
       "[1, 31, 28, 31, 30, 31, 30, 31, 31, 30, 31, 30, 31]"
      ]
     },
     "execution_count": 82,
     "metadata": {},
     "output_type": "execute_result"
    }
   ],
   "source": [
    "First_of_the_months"
   ]
  },
  {
   "cell_type": "code",
   "execution_count": 81,
   "metadata": {},
   "outputs": [],
   "source": [
    "#adds January 1 to start of list\n",
    "First_of_the_months.insert(0,1)"
   ]
  },
  {
   "cell_type": "code",
   "execution_count": 43,
   "metadata": {},
   "outputs": [],
   "source": [
    "import numpy as np"
   ]
  },
  {
   "cell_type": "code",
   "execution_count": 87,
   "metadata": {},
   "outputs": [],
   "source": [
    "Day_in_year_first_of_month = np.cumsum(First_of_the_months)"
   ]
  },
  {
   "cell_type": "code",
   "execution_count": 88,
   "metadata": {},
   "outputs": [
    {
     "data": {
      "text/plain": [
       "array([  1,  32,  60,  91, 121, 152, 182, 213, 244, 274, 305, 335, 366])"
      ]
     },
     "execution_count": 88,
     "metadata": {},
     "output_type": "execute_result"
    }
   ],
   "source": [
    "Day_in_year_first_of_month"
   ]
  },
  {
   "cell_type": "code",
   "execution_count": 97,
   "metadata": {},
   "outputs": [
    {
     "name": "stdout",
     "output_type": "stream",
     "text": [
      "91\n",
      "182\n"
     ]
    }
   ],
   "source": [
    "#if divisible by 0, the first of the month falls on a sunday.\n",
    "for i in Day_in_year_first_of_month:\n",
    "    if i%7 == 0:\n",
    "        print(i)"
   ]
  },
  {
   "cell_type": "code",
   "execution_count": 71,
   "metadata": {},
   "outputs": [],
   "source": [
    "String_months = ['Jan', 'Feb', 'Mar', 'Apr', 'May', 'Jun', 'Jul', 'Aug', 'Sep', 'Oct', 'Nov', 'Dec']"
   ]
  },
  {
   "cell_type": "code",
   "execution_count": 99,
   "metadata": {},
   "outputs": [
    {
     "data": {
      "text/plain": [
       "['Jan',\n",
       " 'Feb',\n",
       " 'Mar',\n",
       " 'Apr',\n",
       " 'May',\n",
       " 'Jun',\n",
       " 'Jul',\n",
       " 'Aug',\n",
       " 'Sep',\n",
       " 'Oct',\n",
       " 'Nov',\n",
       " 'Dec']"
      ]
     },
     "execution_count": 99,
     "metadata": {},
     "output_type": "execute_result"
    }
   ],
   "source": [
    "String_months"
   ]
  },
  {
   "cell_type": "code",
   "execution_count": 114,
   "metadata": {},
   "outputs": [],
   "source": [
    "Month_dict = dict.fromkeys(String_months,FoM_list)"
   ]
  },
  {
   "cell_type": "code",
   "execution_count": 116,
   "metadata": {},
   "outputs": [],
   "source": [
    "Month_dict = zip(String_months,FoM_list)"
   ]
  },
  {
   "cell_type": "code",
   "execution_count": 118,
   "metadata": {},
   "outputs": [],
   "source": [
    "Month_dictionary = dict(Month_dict)"
   ]
  },
  {
   "cell_type": "code",
   "execution_count": 119,
   "metadata": {},
   "outputs": [
    {
     "data": {
      "text/plain": [
       "{'Jan': 1,\n",
       " 'Feb': 32,\n",
       " 'Mar': 60,\n",
       " 'Apr': 91,\n",
       " 'May': 121,\n",
       " 'Jun': 152,\n",
       " 'Jul': 182,\n",
       " 'Aug': 213,\n",
       " 'Sep': 244,\n",
       " 'Oct': 274,\n",
       " 'Nov': 305,\n",
       " 'Dec': 335}"
      ]
     },
     "execution_count": 119,
     "metadata": {},
     "output_type": "execute_result"
    }
   ],
   "source": [
    "Month_dictionary"
   ]
  },
  {
   "cell_type": "code",
   "execution_count": 129,
   "metadata": {},
   "outputs": [
    {
     "name": "stdout",
     "output_type": "stream",
     "text": [
      "91\n",
      "182\n"
     ]
    }
   ],
   "source": [
    "#Now re-write this to print Month name\n",
    "#Actually only need to count how many answers each year\n",
    "#if divisible by 0, the first of the month falls on a sunday.\n",
    "for i in Day_in_year_first_of_month:\n",
    "    if i%7 == 0:\n",
    "        print(i)\n",
    "    "
   ]
  },
  {
   "cell_type": "code",
   "execution_count": 5,
   "metadata": {},
   "outputs": [
    {
     "name": "stdout",
     "output_type": "stream",
     "text": [
      "1904\n",
      "1908\n",
      "1912\n",
      "1916\n",
      "1920\n",
      "1924\n",
      "1928\n",
      "1932\n",
      "1936\n",
      "1940\n",
      "1944\n",
      "1948\n",
      "1952\n",
      "1956\n",
      "1960\n",
      "1964\n",
      "1968\n",
      "1972\n",
      "1976\n",
      "1980\n",
      "1984\n",
      "1988\n",
      "1992\n",
      "1996\n",
      "2000\n"
     ]
    }
   ],
   "source": [
    "#now to iterate first of month over 100 years... paying attention to leap years.\n",
    "#leap year calc\n",
    "#this gives me all the years I am looking at:\n",
    "#Months = [January, February, March, April, May, June, July, August, September, October, November, December]\n",
    "#Months_leap = [January, February_leap, March, April, May, June, July, August, September, October, November, December]\n",
    "#all_years = list(range(1901,2001))\n",
    "#for year in all_years:\n",
    "#    if year % 4 == 0:\n",
    "#        year_length = January + February_leap + March + April + May + June + July + August + September + October + November + December\n",
    "#        First_of_the_months = Months\n",
    "#        \n",
    "#        print(year)"
   ]
  },
  {
   "cell_type": "code",
   "execution_count": 91,
   "metadata": {},
   "outputs": [],
   "source": [
    "Century = (Months*3+Months_leap)*25"
   ]
  },
  {
   "cell_type": "code",
   "execution_count": 92,
   "metadata": {},
   "outputs": [
    {
     "name": "stdout",
     "output_type": "stream",
     "text": [
      "[    1    32    60 ... 36434 36465 36495]\n"
     ]
    }
   ],
   "source": [
    "Century\n",
    "#now add 1 Jan 1901 to the list\n",
    "Century.insert(0,1)\n",
    "#now cumsum the days over a century to get first of each month\n",
    "import numpy as np\n",
    "Century = np.cumsum(Century)\n",
    "#remove the last entry which is Jan 1 2001\n",
    "Century = np.delete(Century,-1)\n",
    "print(Century)"
   ]
  },
  {
   "cell_type": "code",
   "execution_count": 93,
   "metadata": {},
   "outputs": [],
   "source": [
    "First_of_month_on_sunday = []\n",
    "for i in Century:\n",
    "    if i%7 == 1:\n",
    "        First_of_month_on_sunday.append(i)"
   ]
  },
  {
   "cell_type": "code",
   "execution_count": 94,
   "metadata": {},
   "outputs": [
    {
     "data": {
      "text/plain": [
       "[1,\n",
       " 274,\n",
       " 456,\n",
       " 547,\n",
       " 974,\n",
       " 1065,\n",
       " 1156,\n",
       " 1401,\n",
       " 1674,\n",
       " 1947,\n",
       " 2192,\n",
       " 2465,\n",
       " 2801,\n",
       " 2892,\n",
       " 3074,\n",
       " 3319,\n",
       " 3347,\n",
       " 3592,\n",
       " 3865,\n",
       " 4292,\n",
       " 4474,\n",
       " 4565,\n",
       " 4992,\n",
       " 5083,\n",
       " 5265,\n",
       " 5510,\n",
       " 5692,\n",
       " 5965,\n",
       " 6210,\n",
       " 6483,\n",
       " 6665,\n",
       " 6756,\n",
       " 7092,\n",
       " 7337,\n",
       " 7365,\n",
       " 7610,\n",
       " 7883,\n",
       " 8156,\n",
       " 8401,\n",
       " 8492,\n",
       " 8583,\n",
       " 9010,\n",
       " 9101,\n",
       " 9283,\n",
       " 9528,\n",
       " 9556,\n",
       " 9801,\n",
       " 9983,\n",
       " 10228,\n",
       " 10501,\n",
       " 10683,\n",
       " 10774,\n",
       " 11201,\n",
       " 11292,\n",
       " 11383,\n",
       " 11628,\n",
       " 11901,\n",
       " 12174,\n",
       " 12419,\n",
       " 12692,\n",
       " 13028,\n",
       " 13119,\n",
       " 13301,\n",
       " 13546,\n",
       " 13574,\n",
       " 13819,\n",
       " 14092,\n",
       " 14519,\n",
       " 14701,\n",
       " 14792,\n",
       " 15219,\n",
       " 15310,\n",
       " 15492,\n",
       " 15737,\n",
       " 15919,\n",
       " 16192,\n",
       " 16437,\n",
       " 16710,\n",
       " 16892,\n",
       " 16983,\n",
       " 17319,\n",
       " 17564,\n",
       " 17592,\n",
       " 17837,\n",
       " 18110,\n",
       " 18383,\n",
       " 18628,\n",
       " 18719,\n",
       " 18810,\n",
       " 19237,\n",
       " 19328,\n",
       " 19510,\n",
       " 19755,\n",
       " 19783,\n",
       " 20028,\n",
       " 20210,\n",
       " 20455,\n",
       " 20728,\n",
       " 20910,\n",
       " 21001,\n",
       " 21428,\n",
       " 21519,\n",
       " 21610,\n",
       " 21855,\n",
       " 22128,\n",
       " 22401,\n",
       " 22646,\n",
       " 22919,\n",
       " 23255,\n",
       " 23346,\n",
       " 23528,\n",
       " 23773,\n",
       " 23801,\n",
       " 24046,\n",
       " 24319,\n",
       " 24746,\n",
       " 24928,\n",
       " 25019,\n",
       " 25446,\n",
       " 25537,\n",
       " 25719,\n",
       " 25964,\n",
       " 26146,\n",
       " 26419,\n",
       " 26664,\n",
       " 26937,\n",
       " 27119,\n",
       " 27210,\n",
       " 27546,\n",
       " 27791,\n",
       " 27819,\n",
       " 28064,\n",
       " 28337,\n",
       " 28610,\n",
       " 28855,\n",
       " 28946,\n",
       " 29037,\n",
       " 29464,\n",
       " 29555,\n",
       " 29737,\n",
       " 29982,\n",
       " 30010,\n",
       " 30255,\n",
       " 30437,\n",
       " 30682,\n",
       " 30955,\n",
       " 31137,\n",
       " 31228,\n",
       " 31655,\n",
       " 31746,\n",
       " 31837,\n",
       " 32082,\n",
       " 32355,\n",
       " 32628,\n",
       " 32873,\n",
       " 33146,\n",
       " 33482,\n",
       " 33573,\n",
       " 33755,\n",
       " 34000,\n",
       " 34028,\n",
       " 34273,\n",
       " 34546,\n",
       " 34973,\n",
       " 35155,\n",
       " 35246,\n",
       " 35673,\n",
       " 35764,\n",
       " 35946,\n",
       " 36191,\n",
       " 36373]"
      ]
     },
     "execution_count": 94,
     "metadata": {},
     "output_type": "execute_result"
    }
   ],
   "source": [
    "First_of_month_on_sunday"
   ]
  },
  {
   "cell_type": "code",
   "execution_count": 95,
   "metadata": {},
   "outputs": [
    {
     "data": {
      "text/plain": [
       "171"
      ]
     },
     "execution_count": 95,
     "metadata": {},
     "output_type": "execute_result"
    }
   ],
   "source": [
    "len(First_of_month_on_sunday)\n",
    "#i think this is the answer\n",
    "#how to build a check?"
   ]
  },
  {
   "cell_type": "code",
   "execution_count": 64,
   "metadata": {},
   "outputs": [
    {
     "data": {
      "text/plain": [
       "4809.0"
      ]
     },
     "execution_count": 64,
     "metadata": {},
     "output_type": "execute_result"
    }
   ],
   "source": [
    "#building a check\n",
    "#document all of the sundays... then check which of those fall on first of month?\n",
    "Jan_01_1901 = \n",
    "33663/7"
   ]
  },
  {
   "cell_type": "code",
   "execution_count": 90,
   "metadata": {},
   "outputs": [
    {
     "data": {
      "text/plain": [
       "array([    1,    32,    60, ..., 36434, 36465, 36495])"
      ]
     },
     "execution_count": 90,
     "metadata": {},
     "output_type": "execute_result"
    }
   ],
   "source": [
    "Century"
   ]
  },
  {
   "cell_type": "code",
   "execution_count": 80,
   "metadata": {},
   "outputs": [],
   "source": [
    "#this won't work because need unique keys\n",
    "Century_dict = zip(String_months_Century,Century)"
   ]
  },
  {
   "cell_type": "code",
   "execution_count": 79,
   "metadata": {},
   "outputs": [],
   "source": [
    "String_months_Century = String_months * 100"
   ]
  },
  {
   "cell_type": "code",
   "execution_count": 81,
   "metadata": {},
   "outputs": [],
   "source": [
    "Century_dict = dict(Century_dict)"
   ]
  },
  {
   "cell_type": "code",
   "execution_count": 82,
   "metadata": {},
   "outputs": [
    {
     "data": {
      "text/plain": [
       "{'Jan': 36160,\n",
       " 'Feb': 36191,\n",
       " 'Mar': 36220,\n",
       " 'Apr': 36251,\n",
       " 'May': 36281,\n",
       " 'Jun': 36312,\n",
       " 'Jul': 36342,\n",
       " 'Aug': 36373,\n",
       " 'Sep': 36404,\n",
       " 'Oct': 36434,\n",
       " 'Nov': 36465,\n",
       " 'Dec': 36495}"
      ]
     },
     "execution_count": 82,
     "metadata": {},
     "output_type": "execute_result"
    }
   ],
   "source": [
    "Century_dict"
   ]
  },
  {
   "cell_type": "code",
   "execution_count": null,
   "metadata": {},
   "outputs": [],
   "source": []
  }
 ],
 "metadata": {
  "kernelspec": {
   "display_name": "Python 3",
   "language": "python",
   "name": "python3"
  },
  "language_info": {
   "codemirror_mode": {
    "name": "ipython",
    "version": 3
   },
   "file_extension": ".py",
   "mimetype": "text/x-python",
   "name": "python",
   "nbconvert_exporter": "python",
   "pygments_lexer": "ipython3",
   "version": "3.7.1"
  }
 },
 "nbformat": 4,
 "nbformat_minor": 2
}
