{
 "cells": [
  {
   "cell_type": "code",
   "execution_count": 13,
   "metadata": {},
   "outputs": [],
   "source": [
    "#will practice plotting graph from exercise (Descending into ML: Linear Regression)\n",
    "\n"
   ]
  },
  {
   "cell_type": "code",
   "execution_count": 14,
   "metadata": {},
   "outputs": [],
   "source": [
    "from matplotlib import pyplot as plt"
   ]
  },
  {
   "cell_type": "code",
   "execution_count": 15,
   "metadata": {},
   "outputs": [],
   "source": [
    "values = [(5,5), (3,20), (6,25), (6,30), (10,50), (11,55), (15,50), (15,75), (20,100), (21,110), (22,120), (23,125),\n",
    "          (25,150), (25,160), (27,160), (28,165)]"
   ]
  },
  {
   "cell_type": "code",
   "execution_count": 16,
   "metadata": {},
   "outputs": [],
   "source": [
    "values2 = [2,5,5,3,6,7,10,12,12,14,15,16,18,20,22,25,26,26,28,30]\n",
    "values3 = [5,10,20,21,22,25,30,50,55,50,75,100,110,120,125,150,160,160,165,170]"
   ]
  },
  {
   "cell_type": "code",
   "execution_count": 17,
   "metadata": {},
   "outputs": [
    {
     "data": {
      "text/plain": [
       "Text(0, 0.5, 'Temperature in Celsius')"
      ]
     },
     "execution_count": 17,
     "metadata": {},
     "output_type": "execute_result"
    },
    {
     "data": {
      "image/png": "[encoded data removed]",
      "text/plain": [
       "<Figure size 432x288 with 1 Axes>"
      ]
     },
     "metadata": {
      "needs_background": "light"
     },
     "output_type": "display_data"
    }
   ],
   "source": [
    "#.plot function of pyplot takes two vectors of equal length and plots them on a graph\n",
    "plt.plot(values3, values2)\n",
    "#how do i get just the points, unjoined?\n",
    "#the defaul is a solid blue line, joined... need to specify third option to change plot type. 'ro' for red circles\n",
    "plt.plot(values3, values2, 'ro') #now plots both .. hash first line to remove blue line\n",
    "\n",
    "#now to add x and y labels\n",
    "plt.xlabel(\"Cricket chirps per minute\")\n",
    "plt.ylabel(\"Temperature in Celsius\")"
   ]
  },
  {
   "cell_type": "code",
   "execution_count": 18,
   "metadata": {},
   "outputs": [],
   "source": [
    "#How do i add a line of best fit? Linear regressions?\n",
    "import numpy as np #will use numpy to calculate LR\n",
    "\n",
    "#must convert lists to np arrays first\n",
    "x_values = np.array([values3, np.ones(20)]) #two-dimensional array, with second dimension filled of ones\n",
    "y_values = np.array(values2) #one-dimensional array\n",
    "\n"
   ]
  },
  {
   "cell_type": "code",
   "execution_count": 19,
   "metadata": {},
   "outputs": [],
   "source": [
    "values3 = np.array(values3)"
   ]
  },
  {
   "cell_type": "code",
   "execution_count": 20,
   "metadata": {},
   "outputs": [
    {
     "data": {
      "text/plain": [
       "array([ 2,  5,  5,  3,  6,  7, 10, 12, 12, 14, 15, 16, 18, 20, 22, 25, 26,\n",
       "       26, 28, 30])"
      ]
     },
     "execution_count": 20,
     "metadata": {},
     "output_type": "execute_result"
    }
   ],
   "source": [
    "y_values"
   ]
  },
  {
   "cell_type": "code",
   "execution_count": 21,
   "metadata": {},
   "outputs": [
    {
     "data": {
      "text/plain": [
       "array([[  5.,  10.,  20.,  21.,  22.,  25.,  30.,  50.,  55.,  50.,  75.,\n",
       "        100., 110., 120., 125., 150., 160., 160., 165., 170.],\n",
       "       [  1.,   1.,   1.,   1.,   1.,   1.,   1.,   1.,   1.,   1.,   1.,\n",
       "          1.,   1.,   1.,   1.,   1.,   1.,   1.,   1.,   1.]])"
      ]
     },
     "execution_count": 21,
     "metadata": {},
     "output_type": "execute_result"
    }
   ],
   "source": [
    "x_values"
   ]
  },
  {
   "cell_type": "code",
   "execution_count": 22,
   "metadata": {},
   "outputs": [
    {
     "data": {
      "text/plain": [
       "array([  5,  10,  20,  21,  22,  25,  30,  50,  55,  50,  75, 100, 110,\n",
       "       120, 125, 150, 160, 160, 165, 170])"
      ]
     },
     "execution_count": 22,
     "metadata": {},
     "output_type": "execute_result"
    }
   ],
   "source": [
    "values3"
   ]
  },
  {
   "cell_type": "code",
   "execution_count": 23,
   "metadata": {},
   "outputs": [
    {
     "data": {
      "text/plain": [
       "[<matplotlib.lines.Line2D at 0x7f2b5e13b828>]"
      ]
     },
     "execution_count": 23,
     "metadata": {},
     "output_type": "execute_result"
    },
    {
     "data": {
      "image/png": "[encoded data removed]",
      "text/plain": [
       "<Figure size 432x288 with 1 Axes>"
      ]
     },
     "metadata": {
      "needs_background": "light"
     },
     "output_type": "display_data"
    }
   ],
   "source": [
    "plt.plot(values3, y_values, 'ro')"
   ]
  },
  {
   "cell_type": "code",
   "execution_count": 60,
   "metadata": {},
   "outputs": [
    {
     "name": "stderr",
     "output_type": "stream",
     "text": [
      "/home/sam/anaconda3/lib/python3.7/site-packages/ipykernel_launcher.py:2: FutureWarning: `rcond` parameter will change to the default of machine precision times ``max(M, N)`` where M and N are the input matrix dimensions.\n",
      "To use the future default and silence this warning we advise to pass `rcond=None`, to keep using the old, explicitly pass `rcond=-1`.\n",
      "  \n"
     ]
    }
   ],
   "source": [
    "#calculating regression parameters m and c (note: y=mx+c defines the regression line, or line of best fit)\n",
    "m,c = np.linalg.lstsq(x_values.T, y_values)[0]"
   ]
  },
  {
   "cell_type": "code",
   "execution_count": 61,
   "metadata": {},
   "outputs": [
    {
     "data": {
      "text/plain": [
       "0.1484659081137546"
      ]
     },
     "execution_count": 61,
     "metadata": {},
     "output_type": "execute_result"
    }
   ],
   "source": [
    "m"
   ]
  },
  {
   "cell_type": "code",
   "execution_count": 62,
   "metadata": {},
   "outputs": [
    {
     "data": {
      "text/plain": [
       "3.051991556568822"
      ]
     },
     "execution_count": 62,
     "metadata": {},
     "output_type": "execute_result"
    }
   ],
   "source": [
    "c"
   ]
  },
  {
   "cell_type": "code",
   "execution_count": 65,
   "metadata": {},
   "outputs": [
    {
     "data": {
      "text/plain": [
       "array([[ 3.7943211 ,  4.53665064,  6.02130972,  6.16977563,  6.31824154,\n",
       "         6.76363926,  7.5059688 , 10.47528696, 11.2176165 , 10.47528696,\n",
       "        14.18693467, 17.89858237, 19.38324145, 20.86790053, 21.61023007,\n",
       "        25.32187777, 26.80653685, 26.80653685, 27.5488664 , 28.29119594]])"
      ]
     },
     "execution_count": 65,
     "metadata": {},
     "output_type": "execute_result"
    }
   ],
   "source": [
    "line"
   ]
  },
  {
   "cell_type": "code",
   "execution_count": 83,
   "metadata": {},
   "outputs": [
    {
     "data": {
      "text/plain": [
       "array([[ 3.7943211 ,  4.53665064,  6.02130972,  6.16977563,  6.31824154,\n",
       "         6.76363926,  7.5059688 , 10.47528696, 11.2176165 , 10.47528696,\n",
       "        14.18693467, 17.89858237, 19.38324145, 20.86790053, 21.61023007,\n",
       "        25.32187777, 26.80653685, 26.80653685, 27.5488664 , 28.29119594]])"
      ]
     },
     "execution_count": 83,
     "metadata": {},
     "output_type": "execute_result"
    }
   ],
   "source": [
    "line"
   ]
  },
  {
   "cell_type": "code",
   "execution_count": 84,
   "metadata": {},
   "outputs": [
    {
     "data": {
      "text/plain": [
       "array([ 2,  5,  5,  3,  6,  7, 10, 12, 12, 14, 15, 16, 18, 20, 22, 25, 26,\n",
       "       26, 28, 30])"
      ]
     },
     "execution_count": 84,
     "metadata": {},
     "output_type": "execute_result"
    }
   ],
   "source": [
    "y_values"
   ]
  },
  {
   "cell_type": "code",
   "execution_count": 85,
   "metadata": {},
   "outputs": [
    {
     "data": {
      "image/png": "[encoded data removed]",
      "text/plain": [
       "<Figure size 432x288 with 1 Axes>"
      ]
     },
     "metadata": {
      "needs_background": "light"
     },
     "output_type": "display_data"
    }
   ],
   "source": [
    "# plot the results\n",
    "line = m*values3 + c\n",
    "plt.plot(line, 'r-', y_values.T, 'ro')\n",
    "#plt.plot(values3, values2, 'ro')\n",
    "plt.title('Linear Regression')\n",
    "plt.xlabel('Cricket chirps per minute')\n",
    "plt.ylabel('Temperature in Celsius')\n",
    "plt.axis([0,175,0,30])\n",
    "plt.show()"
   ]
  },
  {
   "cell_type": "code",
   "execution_count": 99,
   "metadata": {},
   "outputs": [
    {
     "data": {
      "image/png": "[encoded data removed]",
      "text/plain": [
       "<Figure size 432x288 with 1 Axes>"
      ]
     },
     "metadata": {
      "needs_background": "light"
     },
     "output_type": "display_data"
    }
   ],
   "source": [
    "# plot the results\n",
    "line = m*values3 + c\n",
    "#plt.plot(line, 'r-', y_values.T, 'ro')\n",
    "plt.plot(values3, values2, 'ro', label='original data')\n",
    "plt.plot(values3.T, line.T, 'b', label='Fitted Line')\n",
    "plt.title('Linear Regression')\n",
    "plt.xlabel('Cricket chirps per minute')\n",
    "plt.ylabel('Temperature in Celsius')\n",
    "plt.axis([0,175,0,30])\n",
    "#plt.legend()\n",
    "plt.show()"
   ]
  },
  {
   "cell_type": "code",
   "execution_count": null,
   "metadata": {},
   "outputs": [],
   "source": [
    "#ok that took about 2 hours. needed to plot both original points, and the lobf separately."
   ]
  },
  {
   "cell_type": "markdown",
   "metadata": {},
   "source": [
    "by convention in ML, the equation for LOBF is:\n",
    "\n",
    "y = wx+b\n",
    "y = the predicted label\n",
    "x = the feature (known input)\n",
    "b = the bias, or y intercept\n",
    "w = weight of feature 1, the same concept as slope.\n",
    "\n",
    "a more complex model may rely on more features, with equation looking like this (for an example with 3 features):\n",
    "\n",
    "y = w1x1 + w2x2 + w3x3 + b"
   ]
  }
 ],
 "metadata": {
  "kernelspec": {
   "display_name": "Python 3",
   "language": "python",
   "name": "python3"
  },
  "language_info": {
   "codemirror_mode": {
    "name": "ipython",
    "version": 3
   },
   "file_extension": ".py",
   "mimetype": "text/x-python",
   "name": "python",
   "nbconvert_exporter": "python",
   "pygments_lexer": "ipython3",
   "version": "3.7.1"
  }
 },
 "nbformat": 4,
 "nbformat_minor": 2
}
