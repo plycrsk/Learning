{
 "cells": [
  {
   "cell_type": "markdown",
   "metadata": {},
   "source": [
    "Key ML Terminology\n",
    "Label - The THING we are predicting (y in simple linear reg), e.g future price of coffee beans, kind of animal shown in a picture\n",
    "Feature - Input variable (x in simple linear reg). Simple ML project might use one feature, more complex might use millions of features.\n",
    "\n",
    "E.g in a spam detector for email:\n",
    "Features - keywords, sender, time of day email was sent\n",
    "Label - Spam or Not Spam\n",
    "\n",
    "Examples - particular instance of data. Can be either labeled or unlabeled.\n",
    "Labeled Example - includes features and label {features, label}; {x, y}\n",
    "These are used to train the model\n",
    "\n",
    "Unlabeled examples - includes features but not the label {features, ?}; {x, ?}\n",
    "\n",
    "Once a model is trained with labeled examples, we used it to predict the labels for unlabeled examples.\n",
    "\n",
    "Two phases of a model's life:\n",
    "Training - creating or learning the model. Gradually learns relationships between features and labels\n",
    "Inference - Applying the trained model to unlabeled examples\n",
    "\n",
    "Regression v Classification\n",
    "Regression - predicts continuous values e.g house price in california\n",
    "Classification - predicts discrete values e.g is an email spam or not spam?"
   ]
  }
 ],
 "metadata": {
  "kernelspec": {
   "display_name": "Python 3",
   "language": "python",
   "name": "python3"
  },
  "language_info": {
   "codemirror_mode": {
    "name": "ipython",
    "version": 3
   },
   "file_extension": ".py",
   "mimetype": "text/x-python",
   "name": "python",
   "nbconvert_exporter": "python",
   "pygments_lexer": "ipython3",
   "version": "3.7.1"
  }
 },
 "nbformat": 4,
 "nbformat_minor": 2
}
